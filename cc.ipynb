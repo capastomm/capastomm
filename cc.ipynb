{
  "nbformat": 4,
  "nbformat_minor": 0,
  "metadata": {
    "colab": {
      "name": "cc.ipynb",
      "provenance": [],
      "collapsed_sections": [],
      "mount_file_id": "1o6uSeqv-MA31z3Ir_POjdPGlz2eIx8g2",
      "authorship_tag": "ABX9TyN90MjmsXRBl1ytZ+tFYfs3",
      "include_colab_link": true
    },
    "kernelspec": {
      "name": "python3",
      "display_name": "Python 3"
    },
    "language_info": {
      "name": "python"
    }
  },
  "cells": [
    {
      "cell_type": "markdown",
      "metadata": {
        "id": "view-in-github",
        "colab_type": "text"
      },
      "source": [
        "<a href=\"https://colab.research.google.com/github/capastomm/capastomm/blob/main/cc.ipynb\" target=\"_parent\"><img src=\"https://colab.research.google.com/assets/colab-badge.svg\" alt=\"Open In Colab\"/></a>"
      ]
    },
    {
      "cell_type": "code",
      "metadata": {
        "id": "mZ6uxj96Jo6s"
      },
      "source": [
        "\n",
        "import tensorflow as tf\n",
        "import csv\n",
        "import numpy as np\n",
        "\n",
        "#funzione che carica un file con 18 importi per riga, dal più vecchio al più recente\n",
        "def loadcsv(filename):\n",
        "  saldi_cc=[]\n",
        "  with open(filename) as csvfile:\n",
        "    reader = csv.reader(csvfile, delimiter=';')\n",
        "    next(reader)\n",
        "    for row in reader:\n",
        "      saldo_cc=[]\n",
        "      #ripete la decodifica dell'importo sui 18 mesi\n",
        "      for i in range(18):\n",
        "        #l'importo viene mappato su una scala logaritma\n",
        "        if row[i]=='': \n",
        "          importo_dec=0\n",
        "        else:\n",
        "          importo=float(row[i].replace(',','.'))\n",
        "          importo_abs=np.abs(float(importo))\n",
        "          importo_sign=np.sign(float(importo))\n",
        "          if (importo_abs < 100):\n",
        "            importo_dec=importo_sign if importo_abs > 0 else 1\n",
        "          else:           \n",
        "            importo_log=int(np.log10(importo_abs))-1\n",
        "            importo_dec=(importo_log*2 + (1 if importo_abs / np.power(10,importo_log) > 5.0 else 0))*importo_sign\n",
        "        saldo_cc.append(int(importo_dec))\n",
        "      saldi_cc.append(np.array(saldo_cc))\n",
        "  saldi_cc = np.array(saldi_cc)\n",
        "  min_importo_dec=saldi_cc.min()\n",
        "  max_importo_dec=saldi_cc.max()\n",
        "  #si rimappano i saldi su un intervallo positivo\n",
        "  saldi_cc=saldi_cc-min_importo_dec\n",
        "  #si tiene traccia della lunghezza del dizionario degli importi decodificati\n",
        "  input_dim=max_importo_dec-min_importo_dec+1\n",
        "  content_dic={\"saldi_cc\":saldi_cc,\"input_dim\":input_dim}\n",
        "  return content_dic\n",
        "\n",
        "#carica il file degli indicatori di solvibilità a 12 mesi\n",
        "def loadcsv_y(filename):\n",
        "  ind_def=[]\n",
        "  with open(filename) as csvfile:\n",
        "    reader = csv.reader(csvfile, delimiter=';')\n",
        "    next(reader)\n",
        "    for row in reader:\n",
        "      ind_def.append(int(row[0]))\n",
        "  ind_def = np.array(ind_def)\n",
        "  return ind_def\n",
        "\n",
        "#carica il file con i 18 saldi\n",
        "csvcontent=loadcsv('./cc.csv')\n",
        "#carica il file con i 18 importi cumulati delle movimentazioni  \n",
        "csvcontent_mov_av=loadcsv('./cc mov av.csv')  \n",
        "#carica il file con i 18 importi dei fidi\n",
        "csvcontent_acc=loadcsv('./cc acc.csv')  \n",
        "#carica gli indicatori di solvibilità\n",
        "ind_def=loadcsv_y('./ind def.csv')"
      ],
      "execution_count": null,
      "outputs": []
    },
    {
      "cell_type": "code",
      "metadata": {
        "id": "Q8jRrpmfcTXH"
      },
      "source": [
        "#si definisce una metrica che esegue il calcolo dell'assorbimento patrimoniale data la probabilità di insolvenza stimata\n",
        "import tensorflow_probability as tfp\n",
        "\n",
        "dist=tfp.distributions.Normal(0,1)\n",
        "\n",
        "def compute_rwa(x):\n",
        "  return dist.cdf(dist.quantile(x)/tf.math.sqrt (0.85)+tf.math.sqrt (0.15/0.85)*dist.quantile(0.999))\n",
        "\n",
        "class RWA(tf.keras.metrics.Metric):\n",
        "  def __init__(self, name='RWA', **kwargs):\n",
        "    super(RWA, self).__init__(name=name, **kwargs)\n",
        "    self.rwa = self.add_weight(name='tp', initializer='zeros')\n",
        "\n",
        "\n",
        "  def update_state(self, y_true, y_pred, sample_weight=None):\n",
        "    values=tf.map_fn(compute_rwa, y_pred)\n",
        "    self.rwa.assign_add(tf.reduce_sum(values))\n",
        "\n",
        "  def result(self):\n",
        "    return self.rwa"
      ],
      "execution_count": 35,
      "outputs": []
    },
    {
      "cell_type": "code",
      "metadata": {
        "colab": {
          "base_uri": "https://localhost:8080/"
        },
        "id": "h7myo6aN2knc",
        "outputId": "cfc67547-ad58-4613-cca3-7fdbf6062b49"
      },
      "source": [
        "#si definisce una rete multistrato fully connected che elabora i 18 valori di accordato,saldo e movimentazione\n",
        "output_dim=int(csvcontent[\"input_dim\"]/2)\n",
        "output_dim_mov_av=int(csvcontent_mov_av[\"input_dim\"]/2)\n",
        "output_dim_acc=int(csvcontent_acc[\"input_dim\"]/2)\n",
        "#si definiscono i layer della DNN\n",
        "inp=tf.keras.Input(shape=(18),dtype=tf.int32)\n",
        "inp_av=tf.keras.Input(shape=(18),dtype=tf.int32)\n",
        "inp_acc=tf.keras.Input(shape=(18),dtype=tf.int32)\n",
        "embl=tf.keras.layers.Embedding(csvcontent[\"input_dim\"],output_dim)(inp)\n",
        "embl_av=tf.keras.layers.Embedding(csvcontent_mov_av[\"input_dim\"],output_dim_mov_av)(inp_av)\n",
        "embl_acc=tf.keras.layers.Embedding(csvcontent_acc[\"input_dim\"],output_dim_acc)(inp_acc)\n",
        "conc_l=tf.keras.layers.Concatenate()([embl,embl_av,embl_acc])\n",
        "flt_l=tf.keras.layers.Flatten()(conc_l)\n",
        "dns_l=tf.keras.layers.Dense(18*(output_dim+output_dim_mov_av+output_dim_acc)/2,activation=\"relu\")(flt_l)\n",
        "dns_l2=tf.keras.layers.Dense(18*(output_dim+output_dim_mov_av+output_dim_acc)/4,activation=\"relu\")(dns_l)\n",
        "dns_fin=tf.keras.layers.Dense(1,activation=\"sigmoid\")(dns_l2)\n",
        "ml=tf.keras.Model(inputs=[inp,inp_av,inp_acc],outputs=[dns_fin])\n",
        "#parametri di training\n",
        "ml.compile(optimizer=\"adam\",loss=tf.keras.losses.binary_crossentropy,metrics=[tf.keras.metrics.AUC(),RWA()])\n",
        "ml.summary()\n",
        "#esecuzione del training\n",
        "history=ml.fit(x=[csvcontent[\"saldi_cc\"],csvcontent_mov_av[\"saldi_cc\"],csvcontent_acc[\"saldi_cc\"]],y=ind_def,validation_split=0.3,epochs=5)"
      ],
      "execution_count": 36,
      "outputs": [
        {
          "output_type": "stream",
          "name": "stdout",
          "text": [
            "Model: \"model_6\"\n",
            "__________________________________________________________________________________________________\n",
            "Layer (type)                    Output Shape         Param #     Connected to                     \n",
            "==================================================================================================\n",
            "input_19 (InputLayer)           [(None, 18)]         0                                            \n",
            "__________________________________________________________________________________________________\n",
            "input_20 (InputLayer)           [(None, 18)]         0                                            \n",
            "__________________________________________________________________________________________________\n",
            "input_21 (InputLayer)           [(None, 18)]         0                                            \n",
            "__________________________________________________________________________________________________\n",
            "embedding_18 (Embedding)        (None, 18, 11)       253         input_19[0][0]                   \n",
            "__________________________________________________________________________________________________\n",
            "embedding_19 (Embedding)        (None, 18, 6)        78          input_20[0][0]                   \n",
            "__________________________________________________________________________________________________\n",
            "embedding_20 (Embedding)        (None, 18, 5)        55          input_21[0][0]                   \n",
            "__________________________________________________________________________________________________\n",
            "concatenate_6 (Concatenate)     (None, 18, 22)       0           embedding_18[0][0]               \n",
            "                                                                 embedding_19[0][0]               \n",
            "                                                                 embedding_20[0][0]               \n",
            "__________________________________________________________________________________________________\n",
            "flatten_6 (Flatten)             (None, 396)          0           concatenate_6[0][0]              \n",
            "__________________________________________________________________________________________________\n",
            "dense_18 (Dense)                (None, 198)          78606       flatten_6[0][0]                  \n",
            "__________________________________________________________________________________________________\n",
            "dense_19 (Dense)                (None, 99)           19701       dense_18[0][0]                   \n",
            "__________________________________________________________________________________________________\n",
            "dense_20 (Dense)                (None, 1)            100         dense_19[0][0]                   \n",
            "==================================================================================================\n",
            "Total params: 98,793\n",
            "Trainable params: 98,793\n",
            "Non-trainable params: 0\n",
            "__________________________________________________________________________________________________\n",
            "Epoch 1/5\n",
            "6955/6955 [==============================] - 56s 8ms/step - loss: 0.0972 - auc_6: 0.7579 - RWA: 35931.7383 - val_loss: 0.0629 - val_auc_6: 0.8047 - val_RWA: 12854.0576\n",
            "Epoch 2/5\n",
            "6955/6955 [==============================] - 53s 8ms/step - loss: 0.0938 - auc_6: 0.7767 - RWA: 34918.9609 - val_loss: 0.0626 - val_auc_6: 0.8044 - val_RWA: 12502.5342\n",
            "Epoch 3/5\n",
            "6955/6955 [==============================] - 54s 8ms/step - loss: 0.0925 - auc_6: 0.7851 - RWA: 34529.3789 - val_loss: 0.0646 - val_auc_6: 0.8016 - val_RWA: 14254.5566\n",
            "Epoch 4/5\n",
            "6955/6955 [==============================] - 52s 7ms/step - loss: 0.0914 - auc_6: 0.7863 - RWA: 34157.7227 - val_loss: 0.0631 - val_auc_6: 0.8081 - val_RWA: 13538.6084\n",
            "Epoch 5/5\n",
            "6955/6955 [==============================] - 54s 8ms/step - loss: 0.0902 - auc_6: 0.7948 - RWA: 33843.3828 - val_loss: 0.0645 - val_auc_6: 0.8034 - val_RWA: 13820.6631\n"
          ]
        }
      ]
    },
    {
      "cell_type": "code",
      "metadata": {
        "colab": {
          "base_uri": "https://localhost:8080/"
        },
        "id": "n6CCvTVmad5Z",
        "outputId": "2fe59570-7cd7-471b-e2e1-82728c7bfa99"
      },
      "source": [
        "#approccio classico: si stimano 3 regressioni logistiche rispetto ai valori dell'ultimo mese di saldo,movimentazioni e accordato\n",
        "#si esegue poi un'integrazione dei 3 modelli con un ulteriore logistica\n",
        "\n",
        "#regressione logistica rispetto al saldo ultimo mese\n",
        "ml=tf.keras.models.Sequential([\n",
        "  tf.keras.layers.CategoryEncoding(num_tokens=csvcontent[\"input_dim\"],output_mode=\"multi_hot\")\n",
        "  ,tf.keras.layers.Dense(1)\n",
        "])\n",
        "ml.compile(optimizer=\"adam\",loss=tf.keras.losses.BinaryCrossentropy(from_logits=True))#,metrics=[tf.keras.metrics.AUC()])\n",
        "ml.fit(x=csvcontent[\"saldi_cc\"][:,-1],y=ind_def,validation_split=0.3,epochs=1)\n",
        "ml.trainable=False\n",
        "\n",
        "#regressione logistica rispetto alla movimentazione dell'ultimo mese\n",
        "ml_av=tf.keras.models.Sequential([\n",
        "  tf.keras.layers.CategoryEncoding(num_tokens=csvcontent_mov_av[\"input_dim\"],output_mode=\"multi_hot\")\n",
        "  ,tf.keras.layers.Dense(1)\n",
        "])\n",
        "ml_av.compile(optimizer=\"adam\",loss=tf.keras.losses.BinaryCrossentropy(from_logits=True))#,metrics=[tf.keras.metrics.AUC()])\n",
        "ml_av.fit(x=csvcontent_mov_av[\"saldi_cc\"][:,-1],y=ind_def,validation_split=0.3,epochs=1)\n",
        "ml_av.trainable=False\n",
        "\n",
        "#regressione logistica rispetto all'accordato dell'ultimo mese\n",
        "ml_acc=tf.keras.models.Sequential([\n",
        "  tf.keras.layers.CategoryEncoding(num_tokens=csvcontent_acc[\"input_dim\"],output_mode=\"multi_hot\")\n",
        "  ,tf.keras.layers.Dense(1)\n",
        "])\n",
        "ml_acc.compile(optimizer=\"adam\",loss=tf.keras.losses.BinaryCrossentropy(from_logits=True))#,metrics=[tf.keras.metrics.AUC()])\n",
        "ml_acc.fit(x=csvcontent_acc[\"saldi_cc\"][:,-1],y=ind_def,validation_split=0.3,epochs=1)\n",
        "ml_acc.trainable=False\n",
        "\n",
        "#integrazione dei 3 moduli con un ulteriore logistica\n",
        "conc_l=tf.keras.layers.Concatenate()([ml.output,ml_av.output,ml_acc.output])\n",
        "dns_fin=tf.keras.layers.Dense(1,activation=\"sigmoid\")(conc_l)\n",
        "ml_fin=tf.keras.Model(inputs=[ml.input,ml_av.input,ml_acc.input],outputs=[dns_fin])\n",
        "ml_fin.compile(optimizer=\"adam\",loss=tf.keras.losses.binary_crossentropy,metrics=[tf.keras.metrics.AUC(),RWA()])\n",
        "history=ml_fin.fit(x=[csvcontent[\"saldi_cc\"][:,-1],csvcontent_mov_av[\"saldi_cc\"][:,-1],csvcontent_acc[\"saldi_cc\"][:,-1]],y=ind_def,validation_split=0.3,epochs=2)\n",
        "\n",
        "#attenzione alla metrica RWA(assorbimento patrimoniale). L'assorbimemto patrimoniale del validation set è di circa il 20% più elevato"
      ],
      "execution_count": 37,
      "outputs": [
        {
          "output_type": "stream",
          "name": "stdout",
          "text": [
            "6955/6955 [==============================] - 12s 2ms/step - loss: 0.1680 - val_loss: 0.0714\n",
            "6955/6955 [==============================] - 12s 2ms/step - loss: 0.1416 - val_loss: 0.0755\n",
            "6955/6955 [==============================] - 12s 2ms/step - loss: 0.1666 - val_loss: 0.0764\n",
            "Epoch 1/2\n",
            "6955/6955 [==============================] - 35s 5ms/step - loss: 0.1096 - auc_7: 0.6359 - RWA: 37194.0898 - val_loss: 0.0722 - val_auc_7: 0.7006 - val_RWA: 16254.5342\n",
            "Epoch 2/2\n",
            "6955/6955 [==============================] - 33s 5ms/step - loss: 0.1027 - auc_7: 0.6968 - RWA: 40688.2930 - val_loss: 0.0723 - val_auc_7: 0.7147 - val_RWA: 17729.2539\n"
          ]
        }
      ]
    },
    {
      "cell_type": "code",
      "metadata": {
        "colab": {
          "base_uri": "https://localhost:8080/"
        },
        "id": "4B4MXli66yKZ",
        "outputId": "7791d81b-9cde-46ba-ac3f-42c6a4a32af3"
      },
      "source": [
        "print(tf.shape(ind_def))"
      ],
      "execution_count": 40,
      "outputs": [
        {
          "output_type": "stream",
          "name": "stdout",
          "text": [
            "tf.Tensor([943072], shape=(1,), dtype=int32)\n"
          ]
        }
      ]
    }
  ]
}