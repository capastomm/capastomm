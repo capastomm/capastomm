{
  "nbformat": 4,
  "nbformat_minor": 0,
  "metadata": {
    "colab": {
      "name": "cc.ipynb",
      "provenance": [],
      "collapsed_sections": [],
      "mount_file_id": "1o6uSeqv-MA31z3Ir_POjdPGlz2eIx8g2",
      "authorship_tag": "ABX9TyM9epmr/JJ8UtNKSxaI+qf3",
      "include_colab_link": true
    },
    "kernelspec": {
      "name": "python3",
      "display_name": "Python 3"
    },
    "language_info": {
      "name": "python"
    }
  },
  "cells": [
    {
      "cell_type": "markdown",
      "metadata": {
        "id": "view-in-github",
        "colab_type": "text"
      },
      "source": [
        "<a href=\"https://colab.research.google.com/github/capastomm/capastomm/blob/main/modelli%20cc.ipynb\" target=\"_parent\"><img src=\"https://colab.research.google.com/assets/colab-badge.svg\" alt=\"Open In Colab\"/></a>"
      ]
    },
    {
      "cell_type": "code",
      "metadata": {
        "id": "_PQh37n8wpyr"
      },
      "source": [
        "#Si mettono a confronto 2 modelli di probabilità di default di clientela retail: un modello classico (regressione logistica) ed un modello RNN\n",
        "\n",
        "#Il modello stima la probabilità di default dei clienti detentori di mutui ipotecari usando come variabile di ingresso il saldo del conto corrente. La tecnica classica prevede un modello semplice che elebora l'ultimo saldo \n",
        "#del conto corrente, senza considerare lo storico (che le banche hanno comunque a disposizione). Lo scopo del progetto è valutare i progressi che si possono ottenere considerando non solo l'ultima foto del conto, ma anche la\n",
        "#sua evoluzione negli ultimi 18 mesi, dando in pasto la serie storica dei 18 mesi ad un modello RNN (recurrent neural network)\n",
        "\n",
        "#la base dati comprende circa un milione di clienti su 4 file. 1) File con indicatore di default a 12 mesi dalla rilevazione (variabile dipendente). 2) File dei saldi (una riga per ogni cliente, con gli ultimi \n",
        "#18 saldi mensili). 3) File dei movimenti avere (una riga per ogni cliente, con gli ultimi 18 importi di movimento mensile). 4) File degli importi accordati (una riga per ogni cliente, con gli ultimi 18 importi di fido accordato)\n",
        "#Il 70% della base dati è usata in stima, il 30% in validazione\n",
        "\n",
        "#Lo scopo del progetto è valutare la differente accuratezza dei modelli (metrica tensorflow AUC), ma soprattutto il differente impatto in termini di capitale regolamentare richiesto a copertura del rischio (metrica user defined RWA)\n",
        "\n",
        "#Liberare capitale significa: 1) poter dedicare il capitale liberato ad altri impieghi 2) Maggiore redditività\n"
      ],
      "execution_count": null,
      "outputs": []
    },
    {
      "cell_type": "code",
      "metadata": {
        "id": "mZ6uxj96Jo6s",
        "colab": {
          "base_uri": "https://localhost:8080/"
        },
        "outputId": "464f97a3-ade1-4e30-e075-13e7cfe948a4"
      },
      "source": [
        "import tensorflow as tf\n",
        "import csv\n",
        "import numpy as np\n",
        "\n",
        "nmesi=18\n",
        "#funzione che carica un file csv con 18 importi mensili per riga, dal più vecchio al più recente\n",
        "def loadcsv(filename):\n",
        "  importi_clienti=[]\n",
        "  with open(filename) as csvfile:\n",
        "    reader = csv.reader(csvfile, delimiter=';')\n",
        "    next(reader)\n",
        "    for row in reader:\n",
        "      importi_cliente_sing=[]\n",
        "      for i in range(nmesi):\n",
        "        #l'importo viene mappato su una scala discreta logaritma\n",
        "        importo=float(row[i].replace(',','.'))\n",
        "        importo_abs=np.abs(float(importo))\n",
        "        importo_sign=np.sign(float(importo))\n",
        "        if (importo_abs < 100):\n",
        "          importo_dec=importo_sign\n",
        "        else:           \n",
        "          importo_log=int(np.log10(importo_abs))-1\n",
        "          importo_dec=(importo_log*2 + (1 if importo_abs / np.power(10,importo_log) > 5.0 else 0))*importo_sign\n",
        "        importi_cliente_sing.append(int(importo_dec))\n",
        "      importi_clienti.append(np.array(importi_cliente_sing))\n",
        "  importi_clienti = np.array(importi_clienti)\n",
        "  min_importo_dec=importi_clienti.min()\n",
        "  max_importo_dec=importi_clienti.max()\n",
        "  #si rimappano i saldi su un intervallo positivo\n",
        "  importi_clienti=importi_clienti-min_importo_dec\n",
        "  #si tiene traccia della lunghezza del dizionario degli importi decodificati\n",
        "  input_dim=max_importo_dec-min_importo_dec+1\n",
        "  content_dic={\"importi_clienti\":importi_clienti,\"input_dim\":input_dim}\n",
        "  return content_dic\n",
        "\n",
        "#carica il file degli indicatori di default a 12 mesi\n",
        "def loadcsv_y(filename):\n",
        "  ind_def=[]\n",
        "  with open(filename) as csvfile:\n",
        "    reader = csv.reader(csvfile, delimiter=';')\n",
        "    next(reader)\n",
        "    for row in reader:\n",
        "      ind_def.append(int(row[0]))\n",
        "  ind_def = np.array(ind_def)\n",
        "  return ind_def\n",
        "\n",
        "#carica il file con i 18 saldi\n",
        "csvcontent_saldi=loadcsv('./drive/MyDrive/temp/cc saldi.csv')\n",
        "#carica il file con i 18 importi cumulati delle movimentazioni  \n",
        "csvcontent_mov_av=loadcsv('./drive/MyDrive/temp/cc mov av.csv')  \n",
        "#carica il file con i 18 importi dei fidi\n",
        "csvcontent_acc=loadcsv('./drive/MyDrive/temp/cc acc.csv')  \n",
        "#carica gli indicatori di solvibilità\n",
        "ind_def=loadcsv_y('./drive/MyDrive/temp/ind def.csv')\n",
        "#caricati in totale 943072 clienti\n",
        "print (tf.shape(csvcontent_saldi[\"importi_clienti\"]))\n",
        "print (tf.shape(csvcontent_mov_av[\"importi_clienti\"]))\n",
        "print (tf.shape(csvcontent_acc[\"importi_clienti\"]))\n",
        "print (tf.shape(ind_def))"
      ],
      "execution_count": null,
      "outputs": [
        {
          "output_type": "stream",
          "name": "stdout",
          "text": [
            "tf.Tensor([943072     18], shape=(2,), dtype=int32)\n",
            "tf.Tensor([943072     18], shape=(2,), dtype=int32)\n",
            "tf.Tensor([943072     18], shape=(2,), dtype=int32)\n",
            "tf.Tensor([943072], shape=(1,), dtype=int32)\n"
          ]
        }
      ]
    },
    {
      "cell_type": "code",
      "metadata": {
        "id": "Q8jRrpmfcTXH"
      },
      "source": [
        "#metrica user defined che esegue il calcolo del capitale regolamentare richiesto a copertura del rischio stimato di probabilità di default\n",
        "import tensorflow_probability as tfp\n",
        "\n",
        "dist=tfp.distributions.Normal(0,1)\n",
        "\n",
        "def compute_rwa(x):\n",
        "  #calcolo capitale secondo formula regolamentare\n",
        "  return dist.cdf(dist.quantile(x)/tf.math.sqrt (0.85)+tf.math.sqrt (0.15/0.85)*dist.quantile(0.999))\n",
        "\n",
        "class RWA(tf.keras.metrics.Metric):\n",
        "  def __init__(self, name='RWA', **kwargs):\n",
        "    super(RWA, self).__init__(name=name, **kwargs)\n",
        "    self.rwa = self.add_weight(name='tp', initializer='zeros')\n",
        "\n",
        "\n",
        "  def update_state(self, y_true, y_pred, sample_weight=None):\n",
        "    values=tf.map_fn(compute_rwa, y_pred)\n",
        "    self.rwa.assign_add(tf.reduce_sum(values))\n",
        "\n",
        "  def result(self):\n",
        "    return self.rwa\n",
        "\n",
        "stop_callback = tf.keras.callbacks.EarlyStopping(monitor='loss', patience=1)"
      ],
      "execution_count": null,
      "outputs": []
    },
    {
      "cell_type": "code",
      "metadata": {
        "colab": {
          "base_uri": "https://localhost:8080/"
        },
        "id": "n6CCvTVmad5Z",
        "outputId": "02c273fa-6fb8-4b42-9285-5662dcd8a45f"
      },
      "source": [
        "#approccio classico: si stimano 3 regressioni logistiche rispetto ai valori dell'ultimo mese di saldo,movimentazioni e accordato\n",
        "#si esegue poi un'integrazione dei 3 modelli con un ulteriore logistica\n",
        "\n",
        "#regressione logistica rispetto al saldo ultimo mese\n",
        "ml=tf.keras.models.Sequential([\n",
        "  tf.keras.layers.CategoryEncoding(num_tokens=csvcontent_saldi[\"input_dim\"],output_mode=\"multi_hot\")\n",
        "  ,tf.keras.layers.Dense(1)\n",
        "])\n",
        "ml.compile(optimizer=\"adam\",loss=tf.keras.losses.BinaryCrossentropy(from_logits=True))#,metrics=[tf.keras.metrics.AUC()])\n",
        "ml.fit(x=csvcontent_saldi[\"importi_clienti\"][:,-1],y=ind_def\n",
        "       ,validation_split=0.3,epochs=1000,batch_size=1024,callbacks=[stop_callback],shuffle=True,verbose=0)\n",
        "ml.trainable=False\n",
        "\n",
        "#regressione logistica rispetto alla movimentazione dell'ultimo mese\n",
        "ml_av=tf.keras.models.Sequential([\n",
        "  tf.keras.layers.CategoryEncoding(num_tokens=csvcontent_mov_av[\"input_dim\"],output_mode=\"multi_hot\")\n",
        "  ,tf.keras.layers.Dense(1)\n",
        "])\n",
        "ml_av.compile(optimizer=\"adam\",loss=tf.keras.losses.BinaryCrossentropy(from_logits=True))#,metrics=[tf.keras.metrics.AUC()])\n",
        "ml_av.fit(x=csvcontent_mov_av[\"importi_clienti\"][:,-1],y=ind_def\n",
        "          ,validation_split=0.3,epochs=1000,batch_size=1024,callbacks=[stop_callback],shuffle=True,verbose=0)\n",
        "ml_av.trainable=False\n",
        "\n",
        "#regressione logistica rispetto all'accordato dell'ultimo mese\n",
        "ml_acc=tf.keras.models.Sequential([\n",
        "  tf.keras.layers.CategoryEncoding(num_tokens=csvcontent_acc[\"input_dim\"],output_mode=\"multi_hot\")\n",
        "  ,tf.keras.layers.Dense(1)\n",
        "])\n",
        "ml_acc.compile(optimizer=\"adam\",loss=tf.keras.losses.BinaryCrossentropy(from_logits=True))#,metrics=[tf.keras.metrics.AUC()])\n",
        "ml_acc.fit(x=csvcontent_acc[\"importi_clienti\"][:,-1],y=ind_def\n",
        "           ,validation_split=0.3,epochs=1000,batch_size=1024,callbacks=[stop_callback],shuffle=True,verbose=0)\n",
        "ml_acc.trainable=False\n",
        "\n",
        "#integrazione dei 3 moduli con un ulteriore logistica\n",
        "conc_l=tf.keras.layers.Concatenate()([ml.output,ml_av.output,ml_acc.output])\n",
        "dns_fin=tf.keras.layers.Dense(1,activation=\"sigmoid\")(conc_l)\n",
        "ml_fin=tf.keras.Model(inputs=[ml.input,ml_av.input,ml_acc.input],outputs=[dns_fin])\n",
        "ml_fin.compile(optimizer=\"adam\",loss=tf.keras.losses.binary_crossentropy,metrics=[tf.keras.metrics.AUC(name=\"AUC\"),RWA()])\n",
        "ml_fin.summary()\n",
        "model_checkpoint_callback = tf.keras.callbacks.ModelCheckpoint(\n",
        "    filepath=\"ml_fin\",save_weights_only=True,monitor='AUC',mode='max',save_best_only=True)    \n",
        "history=ml_fin.fit(x=[csvcontent_saldi[\"importi_clienti\"][:,-1],csvcontent_mov_av[\"importi_clienti\"][:,-1],csvcontent_acc[\"importi_clienti\"][:,-1]],y=ind_def\n",
        "                    ,validation_split=0.3,epochs=1000,batch_size=1024,callbacks=[stop_callback,model_checkpoint_callback],shuffle=True,verbose=0)\n",
        "ml_fin.load_weights('ml_fin')\n",
        "idx=int(len(ind_def)*0.7)+1\n",
        "ml_fin_ev=ml_fin.evaluate(x=[csvcontent_saldi[\"importi_clienti\"][idx:,-1],csvcontent_mov_av[\"importi_clienti\"][idx:,-1],csvcontent_acc[\"importi_clienti\"][idx:,-1]],y=ind_def[idx:],verbose=0)"
      ],
      "execution_count": null,
      "outputs": [
        {
          "output_type": "stream",
          "name": "stdout",
          "text": [
            "Model: \"model\"\n",
            "__________________________________________________________________________________________________\n",
            "Layer (type)                    Output Shape         Param #     Connected to                     \n",
            "==================================================================================================\n",
            "category_encoding_input (InputL [(None, 1)]          0                                            \n",
            "__________________________________________________________________________________________________\n",
            "category_encoding_1_input (Inpu [(None, 1)]          0                                            \n",
            "__________________________________________________________________________________________________\n",
            "category_encoding_2_input (Inpu [(None, 1)]          0                                            \n",
            "__________________________________________________________________________________________________\n",
            "category_encoding (CategoryEnco (None, 23)           0           category_encoding_input[0][0]    \n",
            "__________________________________________________________________________________________________\n",
            "category_encoding_1 (CategoryEn (None, 14)           0           category_encoding_1_input[0][0]  \n",
            "__________________________________________________________________________________________________\n",
            "category_encoding_2 (CategoryEn (None, 12)           0           category_encoding_2_input[0][0]  \n",
            "__________________________________________________________________________________________________\n",
            "dense (Dense)                   (None, 1)            24          category_encoding[0][0]          \n",
            "__________________________________________________________________________________________________\n",
            "dense_1 (Dense)                 (None, 1)            15          category_encoding_1[0][0]        \n",
            "__________________________________________________________________________________________________\n",
            "dense_2 (Dense)                 (None, 1)            13          category_encoding_2[0][0]        \n",
            "__________________________________________________________________________________________________\n",
            "concatenate (Concatenate)       (None, 3)            0           dense[0][0]                      \n",
            "                                                                 dense_1[0][0]                    \n",
            "                                                                 dense_2[0][0]                    \n",
            "__________________________________________________________________________________________________\n",
            "dense_3 (Dense)                 (None, 1)            4           concatenate[0][0]                \n",
            "==================================================================================================\n",
            "Total params: 56\n",
            "Trainable params: 4\n",
            "Non-trainable params: 52\n",
            "__________________________________________________________________________________________________\n"
          ]
        }
      ]
    },
    {
      "cell_type": "code",
      "metadata": {
        "colab": {
          "base_uri": "https://localhost:8080/"
        },
        "id": "h7myo6aN2knc",
        "outputId": "e1d08d52-a3c8-493f-f984-5d40ee45cd72"
      },
      "source": [
        "#modello RNN\n",
        "\n",
        "inp=tf.keras.Input(shape=(18),dtype=tf.int32)\n",
        "inp_av=tf.keras.Input(shape=(18),dtype=tf.int32)\n",
        "inp_acc=tf.keras.Input(shape=(18),dtype=tf.int32)\n",
        "embl=tf.keras.layers.Embedding(csvcontent_saldi[\"input_dim\"],1)(inp)\n",
        "embl_av=tf.keras.layers.Embedding(csvcontent_mov_av[\"input_dim\"],1)(inp_av)\n",
        "embl_acc=tf.keras.layers.Embedding(csvcontent_acc[\"input_dim\"],1)(inp_acc)\n",
        "conc_l=tf.keras.layers.Concatenate()([embl,embl_av,embl_acc])\n",
        "lstm_l=tf.keras.layers.Bidirectional(tf.keras.layers.GRU(1))(conc_l)\n",
        "dns_fin=tf.keras.layers.Dense(1,activation=\"sigmoid\")(lstm_l)\n",
        "ml=tf.keras.Model(inputs=[inp,inp_av,inp_acc],outputs=[dns_fin])\n",
        "#parametri di training\n",
        "ml.compile(optimizer=\"adam\",loss=tf.keras.losses.binary_crossentropy,metrics=[tf.keras.metrics.AUC(name=\"AUC\"),RWA()])\n",
        "ml.summary()\n",
        "#esecuzione del training\n",
        "model_checkpoint_callback = tf.keras.callbacks.ModelCheckpoint(\n",
        "    filepath=\"ml\",save_weights_only=True,monitor='AUC',mode='max',save_best_only=True)    \n",
        "history_new=ml.fit(x=[csvcontent_saldi[\"importi_clienti\"],csvcontent_mov_av[\"importi_clienti\"],csvcontent_acc[\"importi_clienti\"]],y=ind_def\n",
        "                ,batch_size=1024,validation_split=0.3,epochs=1000,shuffle=True,callbacks=[stop_callback,model_checkpoint_callback],verbose=0)\n",
        "\n",
        "ml.load_weights('ml')\n",
        "idx=int(len(ind_def)*0.7)+1\n",
        "ml_ev=ml.evaluate(x=[csvcontent_saldi[\"importi_clienti\"][idx:,:],csvcontent_mov_av[\"importi_clienti\"][idx:,:],csvcontent_acc[\"importi_clienti\"][idx:,:]],y=ind_def[idx:],verbose=0)"
      ],
      "execution_count": null,
      "outputs": [
        {
          "output_type": "stream",
          "name": "stdout",
          "text": [
            "Model: \"model_3\"\n",
            "__________________________________________________________________________________________________\n",
            "Layer (type)                    Output Shape         Param #     Connected to                     \n",
            "==================================================================================================\n",
            "input_7 (InputLayer)            [(None, 18)]         0                                            \n",
            "__________________________________________________________________________________________________\n",
            "input_8 (InputLayer)            [(None, 18)]         0                                            \n",
            "__________________________________________________________________________________________________\n",
            "input_9 (InputLayer)            [(None, 18)]         0                                            \n",
            "__________________________________________________________________________________________________\n",
            "embedding_6 (Embedding)         (None, 18, 1)        23          input_7[0][0]                    \n",
            "__________________________________________________________________________________________________\n",
            "embedding_7 (Embedding)         (None, 18, 1)        14          input_8[0][0]                    \n",
            "__________________________________________________________________________________________________\n",
            "embedding_8 (Embedding)         (None, 18, 1)        12          input_9[0][0]                    \n",
            "__________________________________________________________________________________________________\n",
            "concatenate_3 (Concatenate)     (None, 18, 3)        0           embedding_6[0][0]                \n",
            "                                                                 embedding_7[0][0]                \n",
            "                                                                 embedding_8[0][0]                \n",
            "__________________________________________________________________________________________________\n",
            "bidirectional_2 (Bidirectional) (None, 2)            36          concatenate_3[0][0]              \n",
            "__________________________________________________________________________________________________\n",
            "dense_6 (Dense)                 (None, 1)            3           bidirectional_2[0][0]            \n",
            "==================================================================================================\n",
            "Total params: 88\n",
            "Trainable params: 88\n",
            "Non-trainable params: 0\n",
            "__________________________________________________________________________________________________\n"
          ]
        }
      ]
    },
    {
      "cell_type": "code",
      "metadata": {
        "colab": {
          "base_uri": "https://localhost:8080/",
          "height": 613
        },
        "id": "Jj8SUniqoTXG",
        "outputId": "f3e779e6-d47c-488f-df5e-76c70adc94e1"
      },
      "source": [
        "import matplotlib.pyplot as pt\n",
        "pt.figure(figsize=[10,10])\n",
        "pt.subplot(2,2,1)\n",
        "pt.plot(history.history[\"AUC\"],label=\"AUC\")\n",
        "pt.plot(history.history[\"val_AUC\"],label=\"val_AUC\")\n",
        "pt.ylim(0.40,0.80)\n",
        "pt.legend()\n",
        "pt.subplot(2,2,2)\n",
        "pt.plot(history.history[\"loss\"],label=\"loss\")\n",
        "pt.plot(history.history[\"val_loss\"],label=\"val_loss\")\n",
        "pt.ylim(0.05,0.15)\n",
        "pt.legend()\n",
        "pt.subplot(2,2,3)\n",
        "pt.plot(history_new.history[\"AUC\"],label=\"AUC_new\")\n",
        "pt.plot(history_new.history[\"val_AUC\"],label=\"val_AUC_new\")\n",
        "pt.ylim(0.40,0.80)\n",
        "pt.legend()\n",
        "pt.subplot(2,2,4)\n",
        "pt.plot(history_new.history[\"loss\"],label=\"loss_new\")\n",
        "pt.plot(history_new.history[\"val_loss\"],label=\"val_loss_new\")\n",
        "pt.ylim(0.05,0.15)\n",
        "pt.legend()"
      ],
      "execution_count": null,
      "outputs": [
        {
          "output_type": "execute_result",
          "data": {
            "text/plain": [
              "<matplotlib.legend.Legend at 0x7f475beebe50>"
            ]
          },
          "metadata": {},
          "execution_count": 14
        },
        {
          "output_type": "display_data",
          "data": {
            "image/png": "[encoded data removed]",
            "text/plain": [
              "<Figure size 720x720 with 4 Axes>"
            ]
          },
          "metadata": {
            "needs_background": "light"
          }
        }
      ]
    },
    {
      "cell_type": "code",
      "metadata": {
        "colab": {
          "base_uri": "https://localhost:8080/"
        },
        "id": "QiVBmzKRUJVc",
        "outputId": "76857bce-4541-4942-d755-5d5fadd6adf2"
      },
      "source": [
        "print(\"AUC=\",ml_fin_ev[1])\n",
        "print(\"AUC_new=\",ml_ev[1])\n",
        "print(\"RWA=\",ml_fin_ev[2])\n",
        "print(\"RWA_new=\",ml_ev[2])\n",
        "print(\"delta RWA=\",round(100-ml_ev[2]*100/ml_fin_ev[2],2),\"%\")"
      ],
      "execution_count": null,
      "outputs": [
        {
          "output_type": "stream",
          "name": "stdout",
          "text": [
            "AUC= 0.7406470775604248\n",
            "AUC_new= 0.7772399187088013\n",
            "RWA= 42197.65234375\n",
            "RWA_new= 39856.41796875\n",
            "delta RWA= 5.55 %\n"
          ]
        }
      ]
    },
    {
      "cell_type": "code",
      "metadata": {
        "id": "l0-4kEWl1gPm"
      },
      "source": [
        "#Il modello RNN stima con più accuratezza (AUC 0.78 contro AUC 0.74), ed il capitale regolamentare assorbito dal set di validazione scende da 42K a 40K, un risparmio del 5%\n",
        "#il capitale assorbito dal gruppo Intesa a copertura del rischio mutui si aggira attorno a 10^9 euro, 5% = 5*10^7 (50 milioni di risparmio)"
      ],
      "execution_count": null,
      "outputs": []
    }
  ]
}